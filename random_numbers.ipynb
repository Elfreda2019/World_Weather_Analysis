{
 "cells": [
  {
   "cell_type": "code",
   "execution_count": 22,
   "id": "a38b9fa8",
   "metadata": {},
   "outputs": [],
   "source": [
    "# import random module\n",
    "\n",
    "import random\n",
    "\n",
    "# import the Numpy module\n",
    "\n",
    "import numpy as np\n",
    "\n",
    "# import timeit\n",
    "\n",
    "import timeit\n",
    "\n",
    "# import the dependencies \n",
    "\n",
    "import pandas as pd\n",
    "\n",
    "import matplotlib.pyplot as plt \n",
    "\n",
    "from citipy import citipy"
   ]
  },
  {
   "cell_type": "code",
   "execution_count": 2,
   "id": "e5ec0ee3",
   "metadata": {},
   "outputs": [
    {
     "data": {
      "text/plain": [
       "-71"
      ]
     },
     "execution_count": 2,
     "metadata": {},
     "output_type": "execute_result"
    }
   ],
   "source": [
    "random.randint(-90, 90)"
   ]
  },
  {
   "cell_type": "code",
   "execution_count": 3,
   "id": "d9a01616",
   "metadata": {},
   "outputs": [
    {
     "data": {
      "text/plain": [
       "0.04232757047408664"
      ]
     },
     "execution_count": 3,
     "metadata": {},
     "output_type": "execute_result"
    }
   ],
   "source": [
    "random.random()"
   ]
  },
  {
   "cell_type": "code",
   "execution_count": 4,
   "id": "99d10e59",
   "metadata": {},
   "outputs": [
    {
     "data": {
      "text/plain": [
       "59.33380165042542"
      ]
     },
     "execution_count": 4,
     "metadata": {},
     "output_type": "execute_result"
    }
   ],
   "source": [
    "random_number = random.randint(-90, 89) + random.random()\n",
    "\n",
    "random_number"
   ]
  },
  {
   "cell_type": "code",
   "execution_count": 5,
   "id": "b10379d0",
   "metadata": {},
   "outputs": [
    {
     "data": {
      "text/plain": [
       "[-31.813184992909992,\n",
       " 78.01689080105612,\n",
       " -68.15797673511547,\n",
       " 40.87199536758977,\n",
       " 57.700347962504026,\n",
       " -7.023320919881515,\n",
       " 42.15464188109828,\n",
       " -39.114284301607874,\n",
       " 89.49658622977391,\n",
       " -42.76724260992803]"
      ]
     },
     "execution_count": 5,
     "metadata": {},
     "output_type": "execute_result"
    }
   ],
   "source": [
    "x = 1\n",
    "\n",
    "latitudes = []\n",
    "\n",
    "while x < 11:\n",
    "    \n",
    "    random_lat = random.randint(-90, 89) + random.random()\n",
    "    \n",
    "    latitudes.append(random_lat)\n",
    "    \n",
    "    x += 1\n",
    "    \n",
    "    \n",
    "    \n",
    "latitudes"
   ]
  },
  {
   "cell_type": "code",
   "execution_count": 6,
   "id": "36f0a35e",
   "metadata": {},
   "outputs": [
    {
     "data": {
      "text/plain": [
       "-42"
      ]
     },
     "execution_count": 6,
     "metadata": {},
     "output_type": "execute_result"
    }
   ],
   "source": [
    "random.randrange(-90, 90, step = 3)"
   ]
  },
  {
   "cell_type": "code",
   "execution_count": 7,
   "id": "0a172531",
   "metadata": {},
   "outputs": [
    {
     "data": {
      "text/plain": [
       "41.93749572016054"
      ]
     },
     "execution_count": 7,
     "metadata": {},
     "output_type": "execute_result"
    }
   ],
   "source": [
    "random.uniform(-90, 90)"
   ]
  },
  {
   "cell_type": "code",
   "execution_count": 8,
   "id": "5fec0f77",
   "metadata": {},
   "outputs": [
    {
     "data": {
      "text/plain": [
       "64.0841789124909"
      ]
     },
     "execution_count": 8,
     "metadata": {},
     "output_type": "execute_result"
    }
   ],
   "source": [
    "# the numpy and random modules\n",
    "\n",
    "np.random.uniform(-90.000, 90.000)"
   ]
  },
  {
   "cell_type": "code",
   "execution_count": 9,
   "id": "825b2f97",
   "metadata": {},
   "outputs": [
    {
     "data": {
      "text/plain": [
       "-34.234912633385036"
      ]
     },
     "execution_count": 9,
     "metadata": {},
     "output_type": "execute_result"
    }
   ],
   "source": [
    "# alternatively\n",
    "\n",
    "np.random.uniform(low=-90, high=90)"
   ]
  },
  {
   "cell_type": "code",
   "execution_count": 10,
   "id": "7f32288f",
   "metadata": {},
   "outputs": [
    {
     "data": {
      "text/plain": [
       "array([ 53.53683162, -63.43479301, -76.49867504,  21.03698572,\n",
       "       -14.1211114 , -15.30493483,  71.81542988, -38.63233744,\n",
       "        27.37060657,  64.88437969, -47.02784057,  21.41302636,\n",
       "       -82.20984764, -49.34250615,  79.319348  ,  40.45614795,\n",
       "       -83.65158358, -58.27910676,  40.65229479,  79.54263907,\n",
       "       -33.942194  , -51.89353649, -87.88711848,  86.23411347,\n",
       "         7.63573632, -85.20054955,  23.59035058, -16.73072135,\n",
       "       -38.95074103, -21.41366429,  72.9429391 , -47.50598519,\n",
       "       -36.65314068, -24.07630685,  -3.36163659, -81.86097729,\n",
       "       -74.73980263,  -9.58290747, -47.79242344,  37.87863423,\n",
       "        12.87572204,  62.10696952,  51.60263359, -31.96283509,\n",
       "       -64.20279793,  25.0731717 ,  28.54423092,  83.65063562,\n",
       "        67.19615761,  27.35496492])"
      ]
     },
     "execution_count": 10,
     "metadata": {},
     "output_type": "execute_result"
    }
   ],
   "source": [
    "np.random.uniform(-90.000, 90.000, size=50)"
   ]
  },
  {
   "cell_type": "code",
   "execution_count": 11,
   "id": "01eeb428",
   "metadata": {},
   "outputs": [
    {
     "data": {
      "text/plain": [
       "array([ 30.50996122, -62.43052876,  53.75418013,  87.45801318,\n",
       "        50.20049639,  32.48060392, -56.33268198,  71.41233298,\n",
       "       -34.59590703, -36.24765615,  68.89497634,  -4.1872617 ,\n",
       "       -54.11580426,  87.41975793,  33.52787555,  62.63639023,\n",
       "         4.9407378 ,  76.70733948,  31.54008881, -58.13317406,\n",
       "        67.93212581,  65.57232042, -24.02446789,  80.8170921 ,\n",
       "       -33.38454578, -30.46308345,  70.02883237, -14.83457511,\n",
       "        68.11010235, -22.11215725,  78.75037933,  24.57522859,\n",
       "        83.24912172,  33.94421693, -43.99806681,  63.21857859,\n",
       "        60.54105302,  75.40783587,  42.93308482, -87.08506578,\n",
       "        64.33535853, -88.2060236 ,  47.29127045, -75.264968  ,\n",
       "       -43.89752879, -34.03824698,  20.28138495, -18.6169464 ,\n",
       "        66.05949979, -89.38703836])"
      ]
     },
     "execution_count": 11,
     "metadata": {},
     "output_type": "execute_result"
    }
   ],
   "source": [
    "np.random.uniform(low=-90, high=90, size=50)"
   ]
  },
  {
   "cell_type": "code",
   "execution_count": 12,
   "id": "bc0bd88d",
   "metadata": {},
   "outputs": [
    {
     "name": "stdout",
     "output_type": "stream",
     "text": [
      "12.2 µs ± 114 ns per loop (mean ± std. dev. of 7 runs, 100,000 loops each)\n"
     ]
    }
   ],
   "source": [
    "# timing the code block\n",
    "%timeit np.random.uniform(-90.000, 90.000, size=1500) "
   ]
  },
  {
   "cell_type": "code",
   "execution_count": 14,
   "id": "df453b69",
   "metadata": {},
   "outputs": [
    {
     "name": "stdout",
     "output_type": "stream",
     "text": [
      "1.12 ms ± 9.71 µs per loop (mean ± std. dev. of 7 runs, 1,000 loops each)\n"
     ]
    }
   ],
   "source": [
    "# running the while loop to time the code as well\n",
    "\n",
    "def latitudes(size):\n",
    "    \n",
    "    latitudes = []\n",
    "    \n",
    "    x = 0\n",
    "    \n",
    "    while x < (size):\n",
    "        \n",
    "        random_lat = random.randint(-90, 90) + random.random()\n",
    "        \n",
    "        latitudes.append(random_lat)\n",
    "        \n",
    "        x += 1\n",
    "        \n",
    "    return latitudes\n",
    "\n",
    "\n",
    "# call the function with 1500\n",
    "\n",
    "%timeit latitudes(1500)"
   ]
  },
  {
   "cell_type": "code",
   "execution_count": 18,
   "id": "45fac659",
   "metadata": {},
   "outputs": [
    {
     "name": "stdout",
     "output_type": "stream",
     "text": [
      "901 ns ± 7.59 ns per loop (mean ± std. dev. of 7 runs, 1,000,000 loops each)\n"
     ]
    }
   ],
   "source": [
    "# running the for loop to time the code as well\n",
    "\n",
    "def latitudes(size):\n",
    "    \n",
    "    latitudes = []\n",
    "    \n",
    "    vectorm_made= [1, size]\n",
    "\n",
    "    for x in vectorm_made:\n",
    "        \n",
    "        if x < (size):\n",
    "            \n",
    "        \n",
    "             random_lat = random.randint(-90, 90) + random.random()\n",
    "        \n",
    "             latitudes.append(random_lat)\n",
    "       \n",
    "    return latitudes\n",
    "\n",
    "\n",
    "# call the function with 1500\n",
    "\n",
    "%timeit latitudes(1500)"
   ]
  },
  {
   "cell_type": "code",
   "execution_count": 21,
   "id": "36c63538",
   "metadata": {},
   "outputs": [
    {
     "data": {
      "text/plain": [
       "<zip at 0x7fe670ef79c0>"
      ]
     },
     "execution_count": 21,
     "metadata": {},
     "output_type": "execute_result"
    }
   ],
   "source": [
    "# create a set of random longitude and latitude combinations\n",
    "\n",
    "lats = np.random.uniform(low=-90.000, high=90.000, size=1500)\n",
    "\n",
    "lngs = np.random.uniform(low=-180.000, high=180.000, size=1500)\n",
    "\n",
    "lat_lngs = zip(lats, lngs)\n",
    "\n",
    "lat_lngs"
   ]
  },
  {
   "cell_type": "code",
   "execution_count": 23,
   "id": "65523de4",
   "metadata": {},
   "outputs": [],
   "source": [
    "# Add the latitudes and longitudes to a list.\n",
    "coordinates = list(lat_lngs)"
   ]
  },
  {
   "cell_type": "code",
   "execution_count": 24,
   "id": "b078e16c",
   "metadata": {},
   "outputs": [],
   "source": [
    "# Use the citipy module to determine city based on latitude and longitude.\n",
    "\n",
    "from citipy import citipy\n"
   ]
  },
  {
   "cell_type": "code",
   "execution_count": 25,
   "id": "c957bd6c",
   "metadata": {},
   "outputs": [
    {
     "data": {
      "text/plain": [
       "645"
      ]
     },
     "execution_count": 25,
     "metadata": {},
     "output_type": "execute_result"
    }
   ],
   "source": [
    "# Create a list for holding the cities.\n",
    "cities = []\n",
    "# Identify the nearest city for each latitude and longitude combination.\n",
    "for coordinate in coordinates:\n",
    "    city = citipy.nearest_city(coordinate[0], coordinate[1]).city_name\n",
    "\n",
    "    # If the city is unique, then we will add it to the cities list.\n",
    "    if city not in cities:\n",
    "        cities.append(city)\n",
    "# Print the city count to confirm sufficient count.\n",
    "len(cities)"
   ]
  },
  {
   "cell_type": "code",
   "execution_count": null,
   "id": "b3c29944",
   "metadata": {},
   "outputs": [],
   "source": []
  }
 ],
 "metadata": {
  "kernelspec": {
   "display_name": "PythonData",
   "language": "python",
   "name": "pythondata"
  },
  "language_info": {
   "codemirror_mode": {
    "name": "ipython",
    "version": 3
   },
   "file_extension": ".py",
   "mimetype": "text/x-python",
   "name": "python",
   "nbconvert_exporter": "python",
   "pygments_lexer": "ipython3",
   "version": "3.9.12"
  }
 },
 "nbformat": 4,
 "nbformat_minor": 5
}
